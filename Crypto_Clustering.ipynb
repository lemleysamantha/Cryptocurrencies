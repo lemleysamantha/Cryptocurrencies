!pip install hvplot

!pip install plotly

!pip install sklearn

# Initial imports

import pandas as pd
import hvplot.pandas
from path import Path
import plotly.express as px
from sklearn.preprocessing import StandardScaler, MinMaxScaler
from sklearn.decomposition import PCA
from sklearn.cluster import KMeans

# Load the crypto_data.csv dataset

file_path = "./Resources/crypto_data.csv" 
df = pd.read_csv(file_path, index_col=0)
df.head(10)

# Keep all the cryptocurrencies that are being traded

df1 = df.loc[df['IsTrading'] == True]
df1.head()

# Keep all the cryptocurrencies that have a working algorithm

df0 = df1.sort_values(by='Algorithm', ascending=False)
df0.tail()

# Keep all the cryptocurrencies that have a working algorithm: (Separated DF)

df2 = df1.dropna(axis=0, subset=['Algorithm'])
df2.info()

# Remove the "IsTrading" column
 
df3 = df2.drop(['IsTrading'], axis=1)
df3.head()

# Remove rows that have at least 1 null value

df4 = df3.dropna()
df4.head()

# Keep the rows where coins are mined

df5 = df4.loc[df4['TotalCoinsMined'] > 0]
df5.head()

# Create a new DataFrame that holds only the cryptocurrencies names

cc_names_df = df5[["CoinName"]]
cc_names_df.head()

# Drop the 'CoinName' column since it's not going to be used on the clustering algorithm

crypto_df = df5.drop(['CoinName'], axis=1)
crypto_df.head()

# Use get_dummies() to create variables for text features

X = pd.get_dummies(crypto_df, columns=['Algorithm', 'ProofType'])
X.head()

# Standardize the data with StandardScaler()

X_scaled = StandardScaler().fit_transform(X)
print(X_scaled[0:5])

# Using PCA to reduce dimension to three principal components

pca = PCA(n_components=3)
pca

# Create a DataFrame with the three principal components
X_pca = pca.fit_transform(X_scaled)
X_pca

index_values = (X.index.tolist())
index_values

pcs_df = pd.DataFrame(data = X_pca, columns=["PC 1", "PC 2", "PC 3"], index = index_values)
pcs_df.head()

# Create an elbow curve to find the best value for K

inertia = []
k = list(range(1, 11))

for i in k:
    km = KMeans(n_clusters=i, random_state=0)
    km.fit(pcs_df)
    inertia.append(km.inertia_)

# Plot the elbow curve

elbow_data = {"k": k, "inertia": inertia}
df_elbow = pd.DataFrame(elbow_data)
df_elbow.hvplot.line(x="k", y="inertia", title="Elbow Curve", xticks=k)

# Initialize the K-Means model
model = KMeans(n_clusters=4, random_state=0)

# Fit the model
model.fit(pcs_df)

# Predict clusters
predictions = model.predict(pcs_df)
print(predictions)
pcs_df["Class"] = model.labels_

# Create a new DataFrame including predicted clusters and cryptocurrencies features
# Concatentate the crypto_df and pcs_df DataFrames on the same columns

clustered_df = crypto_df.join(pcs_df, how='inner')
clustered_df.head()

#  Add a new column, "CoinName" to the clustered_df DataFrame that holds the names of the cryptocurrencies
 
clustered_df = clustered_df.join(cc_names_df, how='inner')
clustered_df.head()

# Print the shape of the clustered_df

print(clustered_df.shape)
clustered_df.head(10)

# Creating a 3D-Scatter with the PCA data and the clusters

fig = px.scatter_3d(
    clustered_df, 
    x="PC 1", 
    y="PC 2", 
    z="PC 3", 
    color="Class", 
    symbol="Class", 
    hover_name="CoinName", 
    hover_data=["Algorithm", "TotalCoinsMined", "TotalCoinSupply"])
fig.update_layout(legend=dict(x=0, y=1))
fig.show()
# Create a table with tradable cryptocurrencies

clustered_df.hvplot.table(columns=['CoinName', 'Algorithm', 'ProofType', 'TotalCoinsMined', 'TotalCoinSupply', 'Class'], sortable=True, selectable=True)

# Print the total number of tradable cryptocurrencies

clustered_df['CoinName'].count()

# Scaling data to create the scatter plot with tradable cryptocurrencies

cluster_df = clustered_df[['TotalCoinSupply', 'TotalCoinsMined']]
X_minmax = MinMaxScaler().fit_transform(cluster_df)
X_minmax

# Create a new DataFrame that has the scaled data with the clustered_df DataFrame index

index_values = (clustered_df.index.tolist())
plot_df = pd.DataFrame(
    data = X_minmax, columns=["TotalCoinSupply_scaled", "TotalCoinsMined_scaled"], index = index_values)

# Add the "CoinName" column from the clustered_df DataFrame to the new DataFrame

plot_df = plot_df.join(cc_names_df, how='inner')

# Add the "Class" column from the clustered_df DataFrame to the new DataFrame

class_df = clustered_df['Class']
plot_df = plot_df.join(class_df, how='inner')

plot_df.head(10)

# Create a hvplot.scatter plot using x="TotalCoinsMined" and y="TotalCoinSupply"

plot_df.hvplot.scatter(x="TotalCoinsMined_scaled", y="TotalCoinSupply_scaled", by="Class",
                          xlabel="Total Cryptocurrency Coins Mined",
                          ylabel="Total Cryptocurrency Coin Supply",
                          )